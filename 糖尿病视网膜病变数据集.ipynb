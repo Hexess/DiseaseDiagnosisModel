{
 "cells": [
  {
   "cell_type": "code",
   "execution_count": 1,
   "metadata": {},
   "outputs": [],
   "source": [
    "import pandas as pd\n",
    "import numpy as np\n",
    "import seaborn as sns\n",
    "import matplotlib.pyplot as plt\n",
    "import itertools\n",
    "from subprocess import check_output\n",
    "plt.style.use('fivethirtyeight')\n",
    "from sklearn.model_selection import train_test_split\n",
    "%matplotlib inline\n",
    "\n",
    "data=pd.read_csv(r'C:\\Users\\Amazing\\Desktop\\OnlineNewsPopularity.csv',encoding='gbk')"
   ]
  },
  {
   "cell_type": "code",
   "execution_count": 2,
   "metadata": {},
   "outputs": [
    {
     "data": {
      "text/html": [
       "<div>\n",
       "<style scoped>\n",
       "    .dataframe tbody tr th:only-of-type {\n",
       "        vertical-align: middle;\n",
       "    }\n",
       "\n",
       "    .dataframe tbody tr th {\n",
       "        vertical-align: top;\n",
       "    }\n",
       "\n",
       "    .dataframe thead th {\n",
       "        text-align: right;\n",
       "    }\n",
       "</style>\n",
       "<table border=\"1\" class=\"dataframe\">\n",
       "  <thead>\n",
       "    <tr style=\"text-align: right;\">\n",
       "      <th></th>\n",
       "      <th>url</th>\n",
       "      <th>timedelta</th>\n",
       "      <th>n_tokens_title</th>\n",
       "      <th>n_tokens_content</th>\n",
       "      <th>n_unique_tokens</th>\n",
       "      <th>n_non_stop_words</th>\n",
       "      <th>n_non_stop_unique_tokens</th>\n",
       "      <th>num_hrefs</th>\n",
       "      <th>num_self_hrefs</th>\n",
       "      <th>num_imgs</th>\n",
       "      <th>...</th>\n",
       "      <th>min_positive_polarity</th>\n",
       "      <th>max_positive_polarity</th>\n",
       "      <th>avg_negative_polarity</th>\n",
       "      <th>min_negative_polarity</th>\n",
       "      <th>max_negative_polarity</th>\n",
       "      <th>title_subjectivity</th>\n",
       "      <th>title_sentiment_polarity</th>\n",
       "      <th>abs_title_subjectivity</th>\n",
       "      <th>abs_title_sentiment_polarity</th>\n",
       "      <th>shares</th>\n",
       "    </tr>\n",
       "  </thead>\n",
       "  <tbody>\n",
       "    <tr>\n",
       "      <th>0</th>\n",
       "      <td>http://mashable.com/2013/01/07/amazon-instant-...</td>\n",
       "      <td>731.0</td>\n",
       "      <td>12.0</td>\n",
       "      <td>219.0</td>\n",
       "      <td>0.663594</td>\n",
       "      <td>1.0</td>\n",
       "      <td>0.815385</td>\n",
       "      <td>4.0</td>\n",
       "      <td>2.0</td>\n",
       "      <td>1.0</td>\n",
       "      <td>...</td>\n",
       "      <td>0.100000</td>\n",
       "      <td>0.7</td>\n",
       "      <td>-0.350000</td>\n",
       "      <td>-0.600</td>\n",
       "      <td>-0.200000</td>\n",
       "      <td>0.500000</td>\n",
       "      <td>-0.187500</td>\n",
       "      <td>0.000000</td>\n",
       "      <td>0.187500</td>\n",
       "      <td>593</td>\n",
       "    </tr>\n",
       "    <tr>\n",
       "      <th>1</th>\n",
       "      <td>http://mashable.com/2013/01/07/ap-samsung-spon...</td>\n",
       "      <td>731.0</td>\n",
       "      <td>9.0</td>\n",
       "      <td>255.0</td>\n",
       "      <td>0.604743</td>\n",
       "      <td>1.0</td>\n",
       "      <td>0.791946</td>\n",
       "      <td>3.0</td>\n",
       "      <td>1.0</td>\n",
       "      <td>1.0</td>\n",
       "      <td>...</td>\n",
       "      <td>0.033333</td>\n",
       "      <td>0.7</td>\n",
       "      <td>-0.118750</td>\n",
       "      <td>-0.125</td>\n",
       "      <td>-0.100000</td>\n",
       "      <td>0.000000</td>\n",
       "      <td>0.000000</td>\n",
       "      <td>0.500000</td>\n",
       "      <td>0.000000</td>\n",
       "      <td>711</td>\n",
       "    </tr>\n",
       "    <tr>\n",
       "      <th>2</th>\n",
       "      <td>http://mashable.com/2013/01/07/apple-40-billio...</td>\n",
       "      <td>731.0</td>\n",
       "      <td>9.0</td>\n",
       "      <td>211.0</td>\n",
       "      <td>0.575130</td>\n",
       "      <td>1.0</td>\n",
       "      <td>0.663866</td>\n",
       "      <td>3.0</td>\n",
       "      <td>1.0</td>\n",
       "      <td>1.0</td>\n",
       "      <td>...</td>\n",
       "      <td>0.100000</td>\n",
       "      <td>1.0</td>\n",
       "      <td>-0.466667</td>\n",
       "      <td>-0.800</td>\n",
       "      <td>-0.133333</td>\n",
       "      <td>0.000000</td>\n",
       "      <td>0.000000</td>\n",
       "      <td>0.500000</td>\n",
       "      <td>0.000000</td>\n",
       "      <td>1500</td>\n",
       "    </tr>\n",
       "    <tr>\n",
       "      <th>3</th>\n",
       "      <td>http://mashable.com/2013/01/07/astronaut-notre...</td>\n",
       "      <td>731.0</td>\n",
       "      <td>9.0</td>\n",
       "      <td>531.0</td>\n",
       "      <td>0.503788</td>\n",
       "      <td>1.0</td>\n",
       "      <td>0.665635</td>\n",
       "      <td>9.0</td>\n",
       "      <td>0.0</td>\n",
       "      <td>1.0</td>\n",
       "      <td>...</td>\n",
       "      <td>0.136364</td>\n",
       "      <td>0.8</td>\n",
       "      <td>-0.369697</td>\n",
       "      <td>-0.600</td>\n",
       "      <td>-0.166667</td>\n",
       "      <td>0.000000</td>\n",
       "      <td>0.000000</td>\n",
       "      <td>0.500000</td>\n",
       "      <td>0.000000</td>\n",
       "      <td>1200</td>\n",
       "    </tr>\n",
       "    <tr>\n",
       "      <th>4</th>\n",
       "      <td>http://mashable.com/2013/01/07/att-u-verse-apps/</td>\n",
       "      <td>731.0</td>\n",
       "      <td>13.0</td>\n",
       "      <td>1072.0</td>\n",
       "      <td>0.415646</td>\n",
       "      <td>1.0</td>\n",
       "      <td>0.540890</td>\n",
       "      <td>19.0</td>\n",
       "      <td>19.0</td>\n",
       "      <td>20.0</td>\n",
       "      <td>...</td>\n",
       "      <td>0.033333</td>\n",
       "      <td>1.0</td>\n",
       "      <td>-0.220192</td>\n",
       "      <td>-0.500</td>\n",
       "      <td>-0.050000</td>\n",
       "      <td>0.454545</td>\n",
       "      <td>0.136364</td>\n",
       "      <td>0.045455</td>\n",
       "      <td>0.136364</td>\n",
       "      <td>505</td>\n",
       "    </tr>\n",
       "  </tbody>\n",
       "</table>\n",
       "<p>5 rows × 61 columns</p>\n",
       "</div>"
      ],
      "text/plain": [
       "                                                 url   timedelta  \\\n",
       "0  http://mashable.com/2013/01/07/amazon-instant-...       731.0   \n",
       "1  http://mashable.com/2013/01/07/ap-samsung-spon...       731.0   \n",
       "2  http://mashable.com/2013/01/07/apple-40-billio...       731.0   \n",
       "3  http://mashable.com/2013/01/07/astronaut-notre...       731.0   \n",
       "4   http://mashable.com/2013/01/07/att-u-verse-apps/       731.0   \n",
       "\n",
       "    n_tokens_title   n_tokens_content   n_unique_tokens   n_non_stop_words  \\\n",
       "0             12.0              219.0          0.663594                1.0   \n",
       "1              9.0              255.0          0.604743                1.0   \n",
       "2              9.0              211.0          0.575130                1.0   \n",
       "3              9.0              531.0          0.503788                1.0   \n",
       "4             13.0             1072.0          0.415646                1.0   \n",
       "\n",
       "    n_non_stop_unique_tokens   num_hrefs   num_self_hrefs   num_imgs   ...     \\\n",
       "0                   0.815385         4.0              2.0        1.0   ...      \n",
       "1                   0.791946         3.0              1.0        1.0   ...      \n",
       "2                   0.663866         3.0              1.0        1.0   ...      \n",
       "3                   0.665635         9.0              0.0        1.0   ...      \n",
       "4                   0.540890        19.0             19.0       20.0   ...      \n",
       "\n",
       "    min_positive_polarity   max_positive_polarity   avg_negative_polarity  \\\n",
       "0                0.100000                     0.7               -0.350000   \n",
       "1                0.033333                     0.7               -0.118750   \n",
       "2                0.100000                     1.0               -0.466667   \n",
       "3                0.136364                     0.8               -0.369697   \n",
       "4                0.033333                     1.0               -0.220192   \n",
       "\n",
       "    min_negative_polarity   max_negative_polarity   title_subjectivity  \\\n",
       "0                  -0.600               -0.200000             0.500000   \n",
       "1                  -0.125               -0.100000             0.000000   \n",
       "2                  -0.800               -0.133333             0.000000   \n",
       "3                  -0.600               -0.166667             0.000000   \n",
       "4                  -0.500               -0.050000             0.454545   \n",
       "\n",
       "    title_sentiment_polarity   abs_title_subjectivity  \\\n",
       "0                  -0.187500                 0.000000   \n",
       "1                   0.000000                 0.500000   \n",
       "2                   0.000000                 0.500000   \n",
       "3                   0.000000                 0.500000   \n",
       "4                   0.136364                 0.045455   \n",
       "\n",
       "    abs_title_sentiment_polarity   shares  \n",
       "0                       0.187500      593  \n",
       "1                       0.000000      711  \n",
       "2                       0.000000     1500  \n",
       "3                       0.000000     1200  \n",
       "4                       0.136364      505  \n",
       "\n",
       "[5 rows x 61 columns]"
      ]
     },
     "execution_count": 2,
     "metadata": {},
     "output_type": "execute_result"
    }
   ],
   "source": [
    "data.head()"
   ]
  },
  {
   "cell_type": "code",
   "execution_count": 3,
   "metadata": {},
   "outputs": [
    {
     "data": {
      "text/plain": [
       "url                               0\n",
       " timedelta                        0\n",
       " n_tokens_title                   0\n",
       " n_tokens_content                 0\n",
       " n_unique_tokens                  0\n",
       " n_non_stop_words                 0\n",
       " n_non_stop_unique_tokens         0\n",
       " num_hrefs                        0\n",
       " num_self_hrefs                   0\n",
       " num_imgs                         0\n",
       " num_videos                       0\n",
       " average_token_length             0\n",
       " num_keywords                     0\n",
       " data_channel_is_lifestyle        0\n",
       " data_channel_is_entertainment    0\n",
       " data_channel_is_bus              0\n",
       " data_channel_is_socmed           0\n",
       " data_channel_is_tech             0\n",
       " data_channel_is_world            0\n",
       " kw_min_min                       0\n",
       " kw_max_min                       0\n",
       " kw_avg_min                       0\n",
       " kw_min_max                       0\n",
       " kw_max_max                       0\n",
       " kw_avg_max                       0\n",
       " kw_min_avg                       0\n",
       " kw_max_avg                       0\n",
       " kw_avg_avg                       0\n",
       " self_reference_min_shares        0\n",
       " self_reference_max_shares        0\n",
       "                                 ..\n",
       " weekday_is_monday                0\n",
       " weekday_is_tuesday               0\n",
       " weekday_is_wednesday             0\n",
       " weekday_is_thursday              0\n",
       " weekday_is_friday                0\n",
       " weekday_is_saturday              0\n",
       " weekday_is_sunday                0\n",
       " is_weekend                       0\n",
       " LDA_00                           0\n",
       " LDA_01                           0\n",
       " LDA_02                           0\n",
       " LDA_03                           0\n",
       " LDA_04                           0\n",
       " global_subjectivity              0\n",
       " global_sentiment_polarity        0\n",
       " global_rate_positive_words       0\n",
       " global_rate_negative_words       0\n",
       " rate_positive_words              0\n",
       " rate_negative_words              0\n",
       " avg_positive_polarity            0\n",
       " min_positive_polarity            0\n",
       " max_positive_polarity            0\n",
       " avg_negative_polarity            0\n",
       " min_negative_polarity            0\n",
       " max_negative_polarity            0\n",
       " title_subjectivity               0\n",
       " title_sentiment_polarity         0\n",
       " abs_title_subjectivity           0\n",
       " abs_title_sentiment_polarity     0\n",
       " shares                           0\n",
       "Length: 61, dtype: int64"
      ]
     },
     "execution_count": 3,
     "metadata": {},
     "output_type": "execute_result"
    }
   ],
   "source": [
    "data.isnull().sum()"
   ]
  },
  {
   "cell_type": "code",
   "execution_count": 4,
   "metadata": {},
   "outputs": [
    {
     "name": "stdout",
     "output_type": "stream",
     "text": [
      "field url : num 0-entries: 0\n",
      "field  timedelta : num 0-entries: 0\n",
      "field  n_tokens_title : num 0-entries: 0\n",
      "field  n_tokens_content : num 0-entries: 1181\n",
      "field  n_unique_tokens : num 0-entries: 1181\n",
      "field  n_non_stop_words : num 0-entries: 1181\n",
      "field  n_non_stop_unique_tokens : num 0-entries: 1181\n",
      "field  num_hrefs : num 0-entries: 1299\n",
      "field  num_self_hrefs : num 0-entries: 5350\n",
      "field  num_imgs : num 0-entries: 6987\n",
      "field  num_videos : num 0-entries: 25026\n",
      "field  average_token_length : num 0-entries: 1181\n",
      "field  num_keywords : num 0-entries: 0\n",
      "field  data_channel_is_lifestyle : num 0-entries: 37545\n",
      "field  data_channel_is_entertainment : num 0-entries: 32587\n",
      "field  data_channel_is_bus : num 0-entries: 33386\n",
      "field  data_channel_is_socmed : num 0-entries: 37321\n",
      "field  data_channel_is_tech : num 0-entries: 32298\n",
      "field  data_channel_is_world : num 0-entries: 31217\n",
      "field  kw_min_min : num 0-entries: 79\n",
      "field  kw_max_min : num 0-entries: 819\n",
      "field  kw_avg_min : num 0-entries: 81\n",
      "field  kw_min_max : num 0-entries: 17108\n",
      "field  kw_max_max : num 0-entries: 79\n",
      "field  kw_avg_max : num 0-entries: 79\n",
      "field  kw_min_avg : num 0-entries: 17102\n",
      "field  kw_max_avg : num 0-entries: 79\n",
      "field  kw_avg_avg : num 0-entries: 79\n",
      "field  self_reference_min_shares : num 0-entries: 7174\n",
      "field  self_reference_max_shares : num 0-entries: 7175\n",
      "field  self_reference_avg_sharess : num 0-entries: 7174\n",
      "field  weekday_is_monday : num 0-entries: 32983\n",
      "field  weekday_is_tuesday : num 0-entries: 32254\n",
      "field  weekday_is_wednesday : num 0-entries: 32209\n",
      "field  weekday_is_thursday : num 0-entries: 32377\n",
      "field  weekday_is_friday : num 0-entries: 33943\n",
      "field  weekday_is_saturday : num 0-entries: 37191\n",
      "field  weekday_is_sunday : num 0-entries: 36907\n",
      "field  is_weekend : num 0-entries: 34454\n",
      "field  LDA_00 : num 0-entries: 1\n",
      "field  LDA_01 : num 0-entries: 1\n",
      "field  LDA_02 : num 0-entries: 1\n",
      "field  LDA_03 : num 0-entries: 1\n",
      "field  LDA_04 : num 0-entries: 1\n",
      "field  global_subjectivity : num 0-entries: 1184\n",
      "field  global_sentiment_polarity : num 0-entries: 1197\n",
      "field  global_rate_positive_words : num 0-entries: 1217\n",
      "field  global_rate_negative_words : num 0-entries: 2550\n",
      "field  rate_positive_words : num 0-entries: 1217\n",
      "field  rate_negative_words : num 0-entries: 2550\n",
      "field  avg_positive_polarity : num 0-entries: 1217\n",
      "field  min_positive_polarity : num 0-entries: 1217\n",
      "field  max_positive_polarity : num 0-entries: 1217\n",
      "field  avg_negative_polarity : num 0-entries: 2550\n",
      "field  min_negative_polarity : num 0-entries: 2550\n",
      "field  max_negative_polarity : num 0-entries: 2550\n",
      "field  title_subjectivity : num 0-entries: 18013\n",
      "field  title_sentiment_polarity : num 0-entries: 19914\n",
      "field  abs_title_subjectivity : num 0-entries: 2643\n",
      "field  abs_title_sentiment_polarity : num 0-entries: 19914\n",
      "field  shares : num 0-entries: 0\n"
     ]
    }
   ],
   "source": [
    "for field in data.columns :\n",
    "    print('field %s : num 0-entries: %d' % (field, len(data.loc[ data[field] == 0, field ])))"
   ]
  },
  {
   "cell_type": "markdown",
   "metadata": {},
   "source": [
    "<font size=5>基本EDA分析（Exploratory Data Analysis,EDA）</font>"
   ]
  },
  {
   "cell_type": "code",
   "execution_count": 5,
   "metadata": {},
   "outputs": [
    {
     "ename": "ValueError",
     "evalue": "Could not interpret input 'shares'",
     "output_type": "error",
     "traceback": [
      "\u001b[1;31m---------------------------------------------------------------------------\u001b[0m",
      "\u001b[1;31mValueError\u001b[0m                                Traceback (most recent call last)",
      "\u001b[1;32m<ipython-input-5-f5e4fb7d6c46>\u001b[0m in \u001b[0;36m<module>\u001b[1;34m()\u001b[0m\n\u001b[1;32m----> 1\u001b[1;33m \u001b[0msns\u001b[0m\u001b[1;33m.\u001b[0m\u001b[0mcountplot\u001b[0m\u001b[1;33m(\u001b[0m\u001b[0mx\u001b[0m\u001b[1;33m=\u001b[0m\u001b[1;34m'shares'\u001b[0m\u001b[1;33m,\u001b[0m\u001b[0mdata\u001b[0m\u001b[1;33m=\u001b[0m\u001b[0mdata\u001b[0m\u001b[1;33m)\u001b[0m\u001b[1;33m\u001b[0m\u001b[0m\n\u001b[0m\u001b[0;32m      2\u001b[0m \u001b[0mplt\u001b[0m\u001b[1;33m.\u001b[0m\u001b[0mshow\u001b[0m\u001b[1;33m(\u001b[0m\u001b[1;33m)\u001b[0m\u001b[1;33m\u001b[0m\u001b[0m\n",
      "\u001b[1;32mD:\\Anaconda\\lib\\site-packages\\seaborn\\categorical.py\u001b[0m in \u001b[0;36mcountplot\u001b[1;34m(x, y, hue, data, order, hue_order, orient, color, palette, saturation, dodge, ax, **kwargs)\u001b[0m\n\u001b[0;32m   3357\u001b[0m                           \u001b[0mestimator\u001b[0m\u001b[1;33m,\u001b[0m \u001b[0mci\u001b[0m\u001b[1;33m,\u001b[0m \u001b[0mn_boot\u001b[0m\u001b[1;33m,\u001b[0m \u001b[0munits\u001b[0m\u001b[1;33m,\u001b[0m\u001b[1;33m\u001b[0m\u001b[0m\n\u001b[0;32m   3358\u001b[0m                           \u001b[0morient\u001b[0m\u001b[1;33m,\u001b[0m \u001b[0mcolor\u001b[0m\u001b[1;33m,\u001b[0m \u001b[0mpalette\u001b[0m\u001b[1;33m,\u001b[0m \u001b[0msaturation\u001b[0m\u001b[1;33m,\u001b[0m\u001b[1;33m\u001b[0m\u001b[0m\n\u001b[1;32m-> 3359\u001b[1;33m                           errcolor, errwidth, capsize, dodge)\n\u001b[0m\u001b[0;32m   3360\u001b[0m \u001b[1;33m\u001b[0m\u001b[0m\n\u001b[0;32m   3361\u001b[0m     \u001b[0mplotter\u001b[0m\u001b[1;33m.\u001b[0m\u001b[0mvalue_label\u001b[0m \u001b[1;33m=\u001b[0m \u001b[1;34m\"count\"\u001b[0m\u001b[1;33m\u001b[0m\u001b[0m\n",
      "\u001b[1;32mD:\\Anaconda\\lib\\site-packages\\seaborn\\categorical.py\u001b[0m in \u001b[0;36m__init__\u001b[1;34m(self, x, y, hue, data, order, hue_order, estimator, ci, n_boot, units, orient, color, palette, saturation, errcolor, errwidth, capsize, dodge)\u001b[0m\n\u001b[0;32m   1594\u001b[0m         \u001b[1;34m\"\"\"Initialize the plotter.\"\"\"\u001b[0m\u001b[1;33m\u001b[0m\u001b[0m\n\u001b[0;32m   1595\u001b[0m         self.establish_variables(x, y, hue, data, orient,\n\u001b[1;32m-> 1596\u001b[1;33m                                  order, hue_order, units)\n\u001b[0m\u001b[0;32m   1597\u001b[0m         \u001b[0mself\u001b[0m\u001b[1;33m.\u001b[0m\u001b[0mestablish_colors\u001b[0m\u001b[1;33m(\u001b[0m\u001b[0mcolor\u001b[0m\u001b[1;33m,\u001b[0m \u001b[0mpalette\u001b[0m\u001b[1;33m,\u001b[0m \u001b[0msaturation\u001b[0m\u001b[1;33m)\u001b[0m\u001b[1;33m\u001b[0m\u001b[0m\n\u001b[0;32m   1598\u001b[0m         \u001b[0mself\u001b[0m\u001b[1;33m.\u001b[0m\u001b[0mestimate_statistic\u001b[0m\u001b[1;33m(\u001b[0m\u001b[0mestimator\u001b[0m\u001b[1;33m,\u001b[0m \u001b[0mci\u001b[0m\u001b[1;33m,\u001b[0m \u001b[0mn_boot\u001b[0m\u001b[1;33m)\u001b[0m\u001b[1;33m\u001b[0m\u001b[0m\n",
      "\u001b[1;32mD:\\Anaconda\\lib\\site-packages\\seaborn\\categorical.py\u001b[0m in \u001b[0;36mestablish_variables\u001b[1;34m(self, x, y, hue, data, orient, order, hue_order, units)\u001b[0m\n\u001b[0;32m    149\u001b[0m                 \u001b[1;32mif\u001b[0m \u001b[0misinstance\u001b[0m\u001b[1;33m(\u001b[0m\u001b[0minput\u001b[0m\u001b[1;33m,\u001b[0m \u001b[0mstring_types\u001b[0m\u001b[1;33m)\u001b[0m\u001b[1;33m:\u001b[0m\u001b[1;33m\u001b[0m\u001b[0m\n\u001b[0;32m    150\u001b[0m                     \u001b[0merr\u001b[0m \u001b[1;33m=\u001b[0m \u001b[1;34m\"Could not interpret input '{}'\"\u001b[0m\u001b[1;33m.\u001b[0m\u001b[0mformat\u001b[0m\u001b[1;33m(\u001b[0m\u001b[0minput\u001b[0m\u001b[1;33m)\u001b[0m\u001b[1;33m\u001b[0m\u001b[0m\n\u001b[1;32m--> 151\u001b[1;33m                     \u001b[1;32mraise\u001b[0m \u001b[0mValueError\u001b[0m\u001b[1;33m(\u001b[0m\u001b[0merr\u001b[0m\u001b[1;33m)\u001b[0m\u001b[1;33m\u001b[0m\u001b[0m\n\u001b[0m\u001b[0;32m    152\u001b[0m \u001b[1;33m\u001b[0m\u001b[0m\n\u001b[0;32m    153\u001b[0m             \u001b[1;31m# Figure out the plotting orientation\u001b[0m\u001b[1;33m\u001b[0m\u001b[1;33m\u001b[0m\u001b[0m\n",
      "\u001b[1;31mValueError\u001b[0m: Could not interpret input 'shares'"
     ]
    }
   ],
   "source": [
    "sns.countplot(x='shares',data=data)\n",
    "plt.show()"
   ]
  },
  {
   "cell_type": "code",
   "execution_count": null,
   "metadata": {},
   "outputs": [],
   "source": [
    "columns=data.columns[:60]\n",
    "plt.subplots(figsize=(18,15))\n",
    "length=len(columns)\n",
    "for i,j in itertools.zip_longest(columns,range(length)):\n",
    "    plt.subplot(5,4,j+1)\n",
    "    plt.subplots_adjust(wspace=0.2,hspace=0.5)\n",
    "    data[i].hist(bins=20,edgecolor='black')\n",
    "    plt.title(i)\n",
    "plt.show()"
   ]
  },
  {
   "cell_type": "code",
   "execution_count": null,
   "metadata": {},
   "outputs": [],
   "source": [
    "corrmat= data.corr()\n",
    "plt.figure(figsize=(20, 15))\n",
    "sns.heatmap(corrmat, vmax=.8, square=True, annot= True)"
   ]
  },
  {
   "cell_type": "code",
   "execution_count": null,
   "metadata": {},
   "outputs": [],
   "source": [
    "data.plot(kind= 'box' , subplots=True, layout=(4,5), sharex=False, sharey=False, figsize=(12,10))"
   ]
  },
  {
   "cell_type": "markdown",
   "metadata": {},
   "source": [
    "<font size=5>异常值处理</font>"
   ]
  },
  {
   "cell_type": "code",
   "execution_count": 3,
   "metadata": {
    "collapsed": true
   },
   "outputs": [],
   "source": [
    "data_new=data"
   ]
  },
  {
   "cell_type": "code",
   "execution_count": 4,
   "metadata": {},
   "outputs": [
    {
     "data": {
      "text/plain": [
       "Index(['Quality Assessment', 'Pre-screening', 'MA detection(alpha = 0.5)',\n",
       "       'MA detection(alpha = 0.6)', 'MA detection(alpha = 0.7)',\n",
       "       'MA detection(alpha = 0.8)', 'MA detection(alpha = 0.9)',\n",
       "       'MA detection(alpha = 1)', 'ROI1', 'ROI2', 'ROI3', 'ROI4', 'ROI5',\n",
       "       'ROI6', 'ROI7', 'ROI8', 'Euclidean Distance ',\n",
       "       'diameter of the optic disc', 'AM/FM', 'Class'],\n",
       "      dtype='object')"
      ]
     },
     "execution_count": 4,
     "metadata": {},
     "output_type": "execute_result"
    }
   ],
   "source": [
    "data_new.columns"
   ]
  },
  {
   "cell_type": "code",
   "execution_count": 5,
   "metadata": {
    "collapsed": true
   },
   "outputs": [],
   "source": [
    "data_new.drop('ROI6',axis=1,inplace=True)\n",
    "data_new.drop('ROI7',axis=1,inplace=True)\n",
    "data_new.drop('ROI8',axis=1,inplace=True)"
   ]
  },
  {
   "cell_type": "code",
   "execution_count": 6,
   "metadata": {
    "collapsed": true
   },
   "outputs": [],
   "source": [
    "max_ROI4 = data_new.ROI4.max()\n",
    "data_new = data_new[data_new.ROI4!=max_ROI4]\n",
    "max_ROI5 = data_new.ROI5.max()\n",
    "data_new = data_new[data_new.ROI5!=max_ROI5]"
   ]
  },
  {
   "cell_type": "code",
   "execution_count": 7,
   "metadata": {
    "collapsed": true
   },
   "outputs": [],
   "source": [
    "def replace_zero(df, field, target):\n",
    "    mean_by_target = df.loc[df[field] != 0, [field, target]].groupby(target).mean()\n",
    "    data_new.loc[(df[field] == 0)&(df[target] == 0), field] = mean_by_target.iloc[0][0]\n",
    "    data_new.loc[(df[field] == 0)&(df[target] == 1), field] = mean_by_target.iloc[1][0]\n",
    "\n",
    "for col in ['ROI2', 'ROI3', 'ROI4','ROI5']:   \n",
    "    replace_zero(data_new, col, 'Class')   "
   ]
  },
  {
   "cell_type": "markdown",
   "metadata": {},
   "source": [
    "<font size=5>预测模型</font>"
   ]
  },
  {
   "cell_type": "code",
   "execution_count": 8,
   "metadata": {
    "collapsed": true
   },
   "outputs": [],
   "source": [
    "data_new['fusion']=(data_new['MA detection(alpha = 0.7)']+data_new['MA detection(alpha = 0.8)']+data_new['MA detection(alpha = 0.9)'])/3\n",
    "data_new.drop('MA detection(alpha = 0.7)',axis=1,inplace=True)\n",
    "data_new.drop('MA detection(alpha = 0.8)',axis=1,inplace=True)\n",
    "data_new.drop('MA detection(alpha = 0.9)',axis=1,inplace=True)\n",
    "data_new.drop('Quality Assessment',axis=1,inplace=True)\n",
    "data_new.drop('Pre-screening',axis=1,inplace=True)"
   ]
  },
  {
   "cell_type": "code",
   "execution_count": 41,
   "metadata": {
    "collapsed": true
   },
   "outputs": [],
   "source": [
    "from sklearn.model_selection import train_test_split\n",
    "X_train, X_test, y_train, y_test = train_test_split(data_new.drop('Class',axis=1), \n",
    "                                                    data_new['Class'], test_size=0.4, \n",
    "                                                    random_state=123)"
   ]
  },
  {
   "cell_type": "code",
   "execution_count": 42,
   "metadata": {
    "collapsed": true
   },
   "outputs": [],
   "source": [
    "X_train_old, X_test_old, y_train_old, y_test_old = train_test_split(data.drop('Class',axis=1), \n",
    "                                                    data['Class'], test_size=0.4, \n",
    "                                                    random_state=123)"
   ]
  },
  {
   "cell_type": "code",
   "execution_count": 10,
   "metadata": {
    "collapsed": true
   },
   "outputs": [],
   "source": [
    "#Feature Scaling\n",
    "from sklearn import preprocessing\n",
    "scaler = preprocessing.StandardScaler().fit(X_train)\n",
    "X_train_transformed = scaler.transform(X_train)\n",
    "X_test_transformed = scaler.transform(X_test)"
   ]
  },
  {
   "cell_type": "code",
   "execution_count": 12,
   "metadata": {},
   "outputs": [
    {
     "data": {
      "image/png": "[encoded data removed]",
      "text/plain": [
       "<matplotlib.figure.Figure at 0x1ed9f29c18>"
      ]
     },
     "metadata": {},
     "output_type": "display_data"
    }
   ],
   "source": [
    "#Feature importance\n",
    "#decision tree classifier\n",
    "from sklearn import tree\n",
    "from sklearn.tree import DecisionTreeClassifier\n",
    "plt.style.use('fivethirtyeight')\n",
    "plt.rcParams['figure.figsize'] = (12,6)\n",
    "\n",
    "# Create train and test splits\n",
    "\n",
    "dtree = tree.DecisionTreeClassifier(\n",
    "    max_depth=6\n",
    "    )\n",
    "dtree = dtree.fit(X_train,y_train)\n",
    "\n",
    "## plot the importances ##\n",
    "importances = dtree.feature_importances_\n",
    "feat_names = data_new.drop(['Class'],axis=1).columns\n",
    "\n",
    "\n",
    "indices = np.argsort(importances)[::-1]\n",
    "plt.figure(figsize=(12,6))\n",
    "plt.title(\"Feature importances by DecisionTreeClassifier\")\n",
    "plt.bar(range(len(indices)), importances[indices], color='red',  align=\"center\")\n",
    "plt.xticks(range(len(indices)), feat_names[indices], rotation='vertical',fontsize=14)\n",
    "plt.xlim([-1, len(indices)])\n",
    "plt.show()"
   ]
  },
  {
   "cell_type": "markdown",
   "metadata": {},
   "source": [
    "<font size=5>决策树模型</font>"
   ]
  },
  {
   "cell_type": "code",
   "execution_count": 43,
   "metadata": {
    "collapsed": true
   },
   "outputs": [],
   "source": [
    "from sklearn.model_selection import cross_val_score\n",
    "from sklearn import tree\n",
    "from sklearn.tree import DecisionTreeClassifier"
   ]
  },
  {
   "cell_type": "code",
   "execution_count": 44,
   "metadata": {},
   "outputs": [
    {
     "name": "stdout",
     "output_type": "stream",
     "text": [
      "             precision    recall  f1-score   support\n",
      "\n",
      "          0       0.71      0.72      0.71       211\n",
      "          1       0.76      0.76      0.76       249\n",
      "\n",
      "avg / total       0.74      0.74      0.74       460\n",
      "\n",
      "[[151  60]\n",
      " [ 61 188]]\n",
      "Traininf accuracy is 1.000\n",
      "Decision Tree accuracy is 0.737\n"
     ]
    }
   ],
   "source": [
    "from sklearn.metrics import classification_report\n",
    "from sklearn.metrics import accuracy_score, classification_report, precision_score, recall_score, confusion_matrix, precision_recall_curve\n",
    "\n",
    "dtree1 = DecisionTreeClassifier(random_state=0)\n",
    "dtree1.fit(X_train, y_train)\n",
    "print(classification_report(y_test, dtree1.predict(X_test)))\n",
    "print(confusion_matrix(y_test, dtree1.predict(X_test)))\n",
    "print(\"Traininf accuracy is %3.3f\"% accuracy_score(y_train, dtree1.predict(X_train)))\n",
    "print (\"Decision Tree accuracy is %3.3f\" % accuracy_score(y_test, dtree1.predict(X_test) ))"
   ]
  },
  {
   "cell_type": "code",
   "execution_count": 45,
   "metadata": {},
   "outputs": [
    {
     "name": "stdout",
     "output_type": "stream",
     "text": [
      "             precision    recall  f1-score   support\n",
      "\n",
      "          0       0.71      0.81      0.75       211\n",
      "          1       0.81      0.72      0.76       249\n",
      "\n",
      "avg / total       0.77      0.76      0.76       460\n",
      "\n",
      "[[170  41]\n",
      " [ 70 179]]\n",
      "Traininf accuracy is 0.878\n",
      "Decision Tree accuracy is 0.759\n"
     ]
    }
   ],
   "source": [
    "from sklearn.metrics import classification_report\n",
    "from sklearn.metrics import accuracy_score, classification_report, precision_score, recall_score, confusion_matrix, precision_recall_curve\n",
    "\n",
    "dtree2 = DecisionTreeClassifier(max_depth=6,criterion='gini',random_state=0)\n",
    "dtree2.fit(X_train, y_train)\n",
    "print(classification_report(y_test, dtree2.predict(X_test)))\n",
    "print(confusion_matrix(y_test, dtree2.predict(X_test)))\n",
    "print(\"Traininf accuracy is %3.3f\"% accuracy_score(y_train, dtree2.predict(X_train)))\n",
    "print (\"Decision Tree accuracy is %3.3f\" % accuracy_score(y_test, dtree2.predict(X_test) ))"
   ]
  },
  {
   "cell_type": "code",
   "execution_count": 46,
   "metadata": {},
   "outputs": [
    {
     "name": "stdout",
     "output_type": "stream",
     "text": [
      "             precision    recall  f1-score   support\n",
      "\n",
      "          0       0.57      0.82      0.67       206\n",
      "          1       0.77      0.49      0.60       255\n",
      "\n",
      "avg / total       0.68      0.64      0.63       461\n",
      "\n",
      "[[169  37]\n",
      " [129 126]]\n",
      "Traininf accuracy is 0.767\n",
      "Decision Tree accuracy is 0.640\n"
     ]
    }
   ],
   "source": [
    "from sklearn.metrics import classification_report\n",
    "from sklearn.metrics import accuracy_score, classification_report, precision_score, recall_score, confusion_matrix, precision_recall_curve\n",
    "\n",
    "dtree3 = DecisionTreeClassifier(max_depth=6,criterion='gini',random_state=0)\n",
    "dtree3.fit(X_train_old, y_train_old)\n",
    "print(classification_report(y_test_old, dtree3.predict(X_test_old)))\n",
    "print(confusion_matrix(y_test_old, dtree3.predict(X_test_old)))\n",
    "print(\"Traininf accuracy is %3.3f\"% accuracy_score(y_train_old, dtree3.predict(X_train_old)))\n",
    "print (\"Decision Tree accuracy is %3.3f\" % accuracy_score(y_test_old, dtree3.predict(X_test_old) ))"
   ]
  },
  {
   "cell_type": "markdown",
   "metadata": {},
   "source": [
    "<font size=5>随机森林模型</font>"
   ]
  },
  {
   "cell_type": "code",
   "execution_count": 47,
   "metadata": {
    "collapsed": true
   },
   "outputs": [],
   "source": [
    "from sklearn.ensemble import RandomForestClassifier\n",
    "rf = RandomForestClassifier(\n",
    "    max_depth=6,\n",
    "    n_estimators=100,\n",
    "    random_state=100,\n",
    "    criterion='gini'\n",
    "    )"
   ]
  },
  {
   "cell_type": "code",
   "execution_count": 48,
   "metadata": {},
   "outputs": [
    {
     "name": "stdout",
     "output_type": "stream",
     "text": [
      "             precision    recall  f1-score   support\n",
      "\n",
      "          0       0.69      0.89      0.78       211\n",
      "          1       0.87      0.67      0.76       249\n",
      "\n",
      "avg / total       0.79      0.77      0.77       460\n",
      "\n",
      "[[187  24]\n",
      " [ 83 166]]\n",
      "Traininf accuracy is 0.890\n",
      "Random Forest is 0.767\n"
     ]
    }
   ],
   "source": [
    "rf.fit(X_train, y_train)\n",
    "print(classification_report(y_test, rf.predict(X_test)))\n",
    "print(confusion_matrix(y_test, rf.predict(X_test)))\n",
    "print(\"Traininf accuracy is %3.3f\"% accuracy_score(y_train, rf.predict(X_train)))\n",
    "print (\"Random Forest is %3.3f\" % accuracy_score(y_test, rf.predict(X_test) ))"
   ]
  },
  {
   "cell_type": "code",
   "execution_count": 49,
   "metadata": {},
   "outputs": [
    {
     "name": "stdout",
     "output_type": "stream",
     "text": [
      "             precision    recall  f1-score   support\n",
      "\n",
      "          0       0.56      0.84      0.67       206\n",
      "          1       0.79      0.47      0.59       255\n",
      "\n",
      "avg / total       0.69      0.64      0.63       461\n",
      "\n",
      "[[173  33]\n",
      " [134 121]]\n",
      "Traininf accuracy is 0.839\n",
      "Random Forest accuracy is 0.638\n"
     ]
    }
   ],
   "source": [
    "rf.fit(X_train_old, y_train_old)\n",
    "print(classification_report(y_test_old, rf.predict(X_test_old)))\n",
    "print(confusion_matrix(y_test_old, rf.predict(X_test_old)))\n",
    "print(\"Traininf accuracy is %3.3f\"% accuracy_score(y_train_old, rf.predict(X_train_old)))\n",
    "print (\"Random Forest accuracy is %3.3f\" % accuracy_score(y_test_old, rf.predict(X_test_old) ))"
   ]
  },
  {
   "cell_type": "markdown",
   "metadata": {},
   "source": [
    "<font size=5>Adaboost模型</font>"
   ]
  },
  {
   "cell_type": "code",
   "execution_count": 50,
   "metadata": {
    "collapsed": true
   },
   "outputs": [],
   "source": [
    "from sklearn.ensemble import AdaBoostClassifier\n",
    "ada = AdaBoostClassifier(base_estimator=RandomForestClassifier(max_depth=6),n_estimators=100,random_state=100)"
   ]
  },
  {
   "cell_type": "code",
   "execution_count": 51,
   "metadata": {},
   "outputs": [
    {
     "name": "stdout",
     "output_type": "stream",
     "text": [
      "             precision    recall  f1-score   support\n",
      "\n",
      "          0       0.73      0.81      0.77       211\n",
      "          1       0.82      0.74      0.78       249\n",
      "\n",
      "avg / total       0.78      0.77      0.77       460\n",
      "\n",
      "[[171  40]\n",
      " [ 64 185]]\n",
      "Traininf accuracy is 1.000\n",
      "ADA boost is 0.774\n"
     ]
    }
   ],
   "source": [
    "ada.fit(X_train, y_train)\n",
    "print(classification_report(y_test, ada.predict(X_test)))\n",
    "confusion_matrix(y_test, ada.predict(X_test))\n",
    "print(confusion_matrix(y_test, ada.predict(X_test)))\n",
    "print(\"Traininf accuracy is %3.3f\"% accuracy_score(y_train, ada.predict(X_train)))\n",
    "print (\"ADA boost is %3.3f\" % accuracy_score(y_test, ada.predict(X_test)))"
   ]
  },
  {
   "cell_type": "code",
   "execution_count": 52,
   "metadata": {},
   "outputs": [
    {
     "name": "stdout",
     "output_type": "stream",
     "text": [
      "             precision    recall  f1-score   support\n",
      "\n",
      "          0       0.61      0.78      0.68       206\n",
      "          1       0.77      0.59      0.67       255\n",
      "\n",
      "avg / total       0.69      0.67      0.67       461\n",
      "\n",
      "[[160  46]\n",
      " [104 151]]\n",
      "Traininf accuracy is 1.000\n",
      "Random Forest accuracy is 0.675\n"
     ]
    }
   ],
   "source": [
    "ada.fit(X_train_old, y_train_old)\n",
    "print(classification_report(y_test_old, ada.predict(X_test_old)))\n",
    "print(confusion_matrix(y_test_old, ada.predict(X_test_old)))\n",
    "print(\"Traininf accuracy is %3.3f\"% accuracy_score(y_train_old, ada.predict(X_train_old)))\n",
    "print (\"Random Forest accuracy is %3.3f\" % accuracy_score(y_test_old, ada.predict(X_test_old) ))"
   ]
  },
  {
   "cell_type": "markdown",
   "metadata": {},
   "source": [
    "<font size=5>GBDT模型</font>"
   ]
  },
  {
   "cell_type": "code",
   "execution_count": 53,
   "metadata": {
    "collapsed": true
   },
   "outputs": [],
   "source": [
    "from sklearn.ensemble import GradientBoostingClassifier\n",
    "gbc=GradientBoostingClassifier(max_depth=6,n_estimators=100,learning_rate=0.1,random_state=100)"
   ]
  },
  {
   "cell_type": "code",
   "execution_count": 54,
   "metadata": {},
   "outputs": [
    {
     "name": "stdout",
     "output_type": "stream",
     "text": [
      "             precision    recall  f1-score   support\n",
      "\n",
      "          0       0.74      0.78      0.76       211\n",
      "          1       0.80      0.76      0.78       249\n",
      "\n",
      "avg / total       0.77      0.77      0.77       460\n",
      "\n",
      "[[164  47]\n",
      " [ 59 190]]\n",
      "Traininf accuracy is 1.000\n",
      "GBC accuracy is 0.770\n"
     ]
    }
   ],
   "source": [
    "gbc.fit(X_train, y_train)\n",
    "print(classification_report(y_test, gbc.predict(X_test)))\n",
    "print(confusion_matrix(y_test, gbc.predict(X_test)))\n",
    "print(\"Traininf accuracy is %3.3f\"% accuracy_score(y_train, gbc.predict(X_train)))\n",
    "print (\"GBC accuracy is %3.3f\" % accuracy_score(y_test, gbc.predict(X_test) ))"
   ]
  },
  {
   "cell_type": "code",
   "execution_count": 55,
   "metadata": {},
   "outputs": [
    {
     "name": "stdout",
     "output_type": "stream",
     "text": [
      "             precision    recall  f1-score   support\n",
      "\n",
      "          0       0.61      0.74      0.67       206\n",
      "          1       0.74      0.62      0.67       255\n",
      "\n",
      "avg / total       0.68      0.67      0.67       461\n",
      "\n",
      "[[152  54]\n",
      " [ 98 157]]\n",
      "Traininf accuracy is 1.000\n",
      "Random Forest accuracy is 0.670\n"
     ]
    }
   ],
   "source": [
    "gbc.fit(X_train_old, y_train_old)\n",
    "print(classification_report(y_test_old, gbc.predict(X_test_old)))\n",
    "print(confusion_matrix(y_test_old, gbc.predict(X_test_old)))\n",
    "print(\"Traininf accuracy is %3.3f\"% accuracy_score(y_train_old, gbc.predict(X_train_old)))\n",
    "print (\"Random Forest accuracy is %3.3f\" % accuracy_score(y_test_old,gbc.predict(X_test_old) ))"
   ]
  },
  {
   "cell_type": "markdown",
   "metadata": {
    "collapsed": true
   },
   "source": [
    "<font size=5>参数寻优</font>"
   ]
  },
  {
   "cell_type": "code",
   "execution_count": 34,
   "metadata": {},
   "outputs": [
    {
     "name": "stderr",
     "output_type": "stream",
     "text": [
      "C:\\Users\\Taylor\\Anaconda3\\lib\\site-packages\\sklearn\\cross_validation.py:41: DeprecationWarning: This module was deprecated in version 0.18 in favor of the model_selection module into which all the refactored classes and functions are moved. Also note that the interface of the new CV iterators are different from that of this module. This module will be removed in 0.20.\n",
      "  \"This module will be removed in 0.20.\", DeprecationWarning)\n",
      "C:\\Users\\Taylor\\Anaconda3\\lib\\site-packages\\sklearn\\grid_search.py:42: DeprecationWarning: This module was deprecated in version 0.18 in favor of the model_selection module into which all the refactored classes and functions are moved. This module will be removed in 0.20.\n",
      "  DeprecationWarning)\n"
     ]
    }
   ],
   "source": [
    "from sklearn.grid_search import GridSearchCV"
   ]
  },
  {
   "cell_type": "code",
   "execution_count": 35,
   "metadata": {},
   "outputs": [
    {
     "name": "stdout",
     "output_type": "stream",
     "text": [
      "             precision    recall  f1-score   support\n",
      "\n",
      "          0       0.77      0.78      0.78       114\n",
      "          1       0.78      0.78      0.78       116\n",
      "\n",
      "avg / total       0.78      0.78      0.78       230\n",
      "\n",
      "[[89 25]\n",
      " [26 90]]\n",
      "Traininf accuracy is 1.000\n",
      "Random Forest accuracy is 0.778\n"
     ]
    }
   ],
   "source": [
    "gbm2= GradientBoostingClassifier(learning_rate=0.1,\n",
    "                                 n_estimators=220,\n",
    "                                 max_depth=7,\n",
    "                                 min_samples_leaf =40,\n",
    "                                 #min_samples_split =300,\n",
    "                                 max_features=10,\n",
    "                                 subsample=0.8,\n",
    "                                 random_state=100)  \n",
    "gbm2.fit(X_train, y_train)\n",
    "print(classification_report(y_test, gbm2.predict(X_test)))\n",
    "print(confusion_matrix(y_test, gbm2.predict(X_test)))\n",
    "print(\"Traininf accuracy is %3.3f\"% accuracy_score(y_train, gbm2.predict(X_train)))\n",
    "print (\"Random Forest accuracy is %3.3f\" % accuracy_score(y_test,gbm2.predict(X_test) ))"
   ]
  },
  {
   "cell_type": "code",
   "execution_count": 27,
   "metadata": {},
   "outputs": [
    {
     "data": {
      "text/plain": [
       "([mean: 0.77910, std: 0.02478, params: {'n_estimators': 100},\n",
       "  mean: 0.77911, std: 0.01963, params: {'n_estimators': 120},\n",
       "  mean: 0.79106, std: 0.02411, params: {'n_estimators': 140},\n",
       "  mean: 0.79106, std: 0.03025, params: {'n_estimators': 160},\n",
       "  mean: 0.78997, std: 0.02806, params: {'n_estimators': 180},\n",
       "  mean: 0.78999, std: 0.02976, params: {'n_estimators': 200},\n",
       "  mean: 0.78999, std: 0.02677, params: {'n_estimators': 220},\n",
       "  mean: 0.78782, std: 0.02456, params: {'n_estimators': 240},\n",
       "  mean: 0.79326, std: 0.02456, params: {'n_estimators': 260},\n",
       "  mean: 0.78457, std: 0.03610, params: {'n_estimators': 280},\n",
       "  mean: 0.79000, std: 0.03009, params: {'n_estimators': 300},\n",
       "  mean: 0.79547, std: 0.03272, params: {'n_estimators': 320},\n",
       "  mean: 0.79329, std: 0.03872, params: {'n_estimators': 340},\n",
       "  mean: 0.79003, std: 0.03271, params: {'n_estimators': 360},\n",
       "  mean: 0.78679, std: 0.04059, params: {'n_estimators': 380},\n",
       "  mean: 0.78897, std: 0.03751, params: {'n_estimators': 400}],\n",
       " {'n_estimators': 320},\n",
       " 0.7954711589708026)"
      ]
     },
     "execution_count": 27,
     "metadata": {},
     "output_type": "execute_result"
    }
   ],
   "source": [
    "param_test1 = {'n_estimators':list(range(100,401,20))}\n",
    "gsearch1 = GridSearchCV(estimator = GradientBoostingClassifier(learning_rate=0.1, min_samples_split=100,min_samples_leaf=20,max_features='sqrt', subsample=0.8,random_state=10), param_grid = param_test1, scoring='accuracy',iid=False,cv=5)\n",
    "gsearch1.fit(X_train,y_train)\n",
    "gsearch1.grid_scores_, gsearch1.best_params_, gsearch1.best_score_"
   ]
  },
  {
   "cell_type": "code",
   "execution_count": 28,
   "metadata": {},
   "outputs": [
    {
     "data": {
      "text/plain": [
       "([mean: 0.79434, std: 0.02749, params: {'max_depth': 3, 'min_samples_split': 101},\n",
       "  mean: 0.79216, std: 0.01711, params: {'max_depth': 3, 'min_samples_split': 201},\n",
       "  mean: 0.79540, std: 0.03315, params: {'max_depth': 3, 'min_samples_split': 301},\n",
       "  mean: 0.80634, std: 0.02575, params: {'max_depth': 4, 'min_samples_split': 101},\n",
       "  mean: 0.79109, std: 0.02601, params: {'max_depth': 4, 'min_samples_split': 201},\n",
       "  mean: 0.80083, std: 0.02410, params: {'max_depth': 4, 'min_samples_split': 301},\n",
       "  mean: 0.79762, std: 0.03214, params: {'max_depth': 5, 'min_samples_split': 101},\n",
       "  mean: 0.80086, std: 0.02289, params: {'max_depth': 5, 'min_samples_split': 201},\n",
       "  mean: 0.79105, std: 0.01965, params: {'max_depth': 5, 'min_samples_split': 301},\n",
       "  mean: 0.80635, std: 0.03848, params: {'max_depth': 6, 'min_samples_split': 101},\n",
       "  mean: 0.79762, std: 0.03106, params: {'max_depth': 6, 'min_samples_split': 201},\n",
       "  mean: 0.79435, std: 0.02474, params: {'max_depth': 6, 'min_samples_split': 301},\n",
       "  mean: 0.79871, std: 0.03218, params: {'max_depth': 7, 'min_samples_split': 101},\n",
       "  mean: 0.79223, std: 0.04225, params: {'max_depth': 7, 'min_samples_split': 201},\n",
       "  mean: 0.80082, std: 0.01955, params: {'max_depth': 7, 'min_samples_split': 301},\n",
       "  mean: 0.79982, std: 0.02782, params: {'max_depth': 8, 'min_samples_split': 101},\n",
       "  mean: 0.79112, std: 0.03293, params: {'max_depth': 8, 'min_samples_split': 201},\n",
       "  mean: 0.79868, std: 0.01894, params: {'max_depth': 8, 'min_samples_split': 301},\n",
       "  mean: 0.80091, std: 0.02592, params: {'max_depth': 9, 'min_samples_split': 101},\n",
       "  mean: 0.79109, std: 0.03142, params: {'max_depth': 9, 'min_samples_split': 201},\n",
       "  mean: 0.79977, std: 0.01820, params: {'max_depth': 9, 'min_samples_split': 301},\n",
       "  mean: 0.79760, std: 0.03834, params: {'max_depth': 10, 'min_samples_split': 101},\n",
       "  mean: 0.79111, std: 0.03074, params: {'max_depth': 10, 'min_samples_split': 201},\n",
       "  mean: 0.79760, std: 0.01989, params: {'max_depth': 10, 'min_samples_split': 301},\n",
       "  mean: 0.79763, std: 0.03530, params: {'max_depth': 11, 'min_samples_split': 101},\n",
       "  mean: 0.79329, std: 0.03372, params: {'max_depth': 11, 'min_samples_split': 201},\n",
       "  mean: 0.79760, std: 0.01989, params: {'max_depth': 11, 'min_samples_split': 301}],\n",
       " {'max_depth': 6, 'min_samples_split': 101},\n",
       " 0.8063468564787168)"
      ]
     },
     "execution_count": 28,
     "metadata": {},
     "output_type": "execute_result"
    }
   ],
   "source": [
    "param_test2= {'max_depth':list(range(3,12,1)), 'min_samples_split':list(range(101,400,100))}  \n",
    "gsearch2= GridSearchCV(estimator = GradientBoostingClassifier(learning_rate=0.1,\n",
    "                                                              n_estimators=320,\n",
    "                                                              min_samples_leaf=20,\n",
    "                                                              max_features='sqrt',\n",
    "                                                              subsample=0.8,\n",
    "                                                              random_state=10),param_grid= param_test2,scoring='accuracy',iid=False,cv=5)  \n",
    "gsearch2.fit(X_train,y_train)  \n",
    "gsearch2.grid_scores_,gsearch2.best_params_, gsearch2.best_score_ "
   ]
  },
  {
   "cell_type": "code",
   "execution_count": 29,
   "metadata": {},
   "outputs": [
    {
     "data": {
      "text/plain": [
       "([mean: 0.80526, std: 0.02693, params: {'min_samples_leaf': 20, 'min_samples_split': 100},\n",
       "  mean: 0.79983, std: 0.03077, params: {'min_samples_leaf': 20, 'min_samples_split': 200},\n",
       "  mean: 0.78890, std: 0.02133, params: {'min_samples_leaf': 20, 'min_samples_split': 300},\n",
       "  mean: 0.79657, std: 0.03655, params: {'min_samples_leaf': 30, 'min_samples_split': 100},\n",
       "  mean: 0.80527, std: 0.02882, params: {'min_samples_leaf': 30, 'min_samples_split': 200},\n",
       "  mean: 0.79544, std: 0.02483, params: {'min_samples_leaf': 30, 'min_samples_split': 300},\n",
       "  mean: 0.80418, std: 0.02741, params: {'min_samples_leaf': 40, 'min_samples_split': 100},\n",
       "  mean: 0.80527, std: 0.02274, params: {'min_samples_leaf': 40, 'min_samples_split': 200},\n",
       "  mean: 0.80091, std: 0.02460, params: {'min_samples_leaf': 40, 'min_samples_split': 300},\n",
       "  mean: 0.79767, std: 0.02644, params: {'min_samples_leaf': 50, 'min_samples_split': 100},\n",
       "  mean: 0.79879, std: 0.02694, params: {'min_samples_leaf': 50, 'min_samples_split': 200},\n",
       "  mean: 0.80092, std: 0.02033, params: {'min_samples_leaf': 50, 'min_samples_split': 300},\n",
       "  mean: 0.81185, std: 0.02944, params: {'min_samples_leaf': 60, 'min_samples_split': 100},\n",
       "  mean: 0.80316, std: 0.04001, params: {'min_samples_leaf': 60, 'min_samples_split': 200},\n",
       "  mean: 0.80529, std: 0.02178, params: {'min_samples_leaf': 60, 'min_samples_split': 300},\n",
       "  mean: 0.80752, std: 0.03306, params: {'min_samples_leaf': 70, 'min_samples_split': 100},\n",
       "  mean: 0.79772, std: 0.03601, params: {'min_samples_leaf': 70, 'min_samples_split': 200},\n",
       "  mean: 0.79555, std: 0.03577, params: {'min_samples_leaf': 70, 'min_samples_split': 300},\n",
       "  mean: 0.80428, std: 0.04070, params: {'min_samples_leaf': 80, 'min_samples_split': 100},\n",
       "  mean: 0.79770, std: 0.04081, params: {'min_samples_leaf': 80, 'min_samples_split': 200},\n",
       "  mean: 0.80202, std: 0.02670, params: {'min_samples_leaf': 80, 'min_samples_split': 300},\n",
       "  mean: 0.80644, std: 0.03672, params: {'min_samples_leaf': 90, 'min_samples_split': 100},\n",
       "  mean: 0.79882, std: 0.03659, params: {'min_samples_leaf': 90, 'min_samples_split': 200},\n",
       "  mean: 0.79334, std: 0.02864, params: {'min_samples_leaf': 90, 'min_samples_split': 300}],\n",
       " {'min_samples_leaf': 60, 'min_samples_split': 100},\n",
       " 0.8118467826343807)"
      ]
     },
     "execution_count": 29,
     "metadata": {},
     "output_type": "execute_result"
    }
   ],
   "source": [
    "param_test3= {'min_samples_split':list(range(100,400,100)),'min_samples_leaf':list(range(20,100,10))}  \n",
    "gsearch3= GridSearchCV(estimator = GradientBoostingClassifier(learning_rate=0.1,\n",
    "                                                              n_estimators=320,\n",
    "                                                              max_depth=6,\n",
    "                                                              max_features='sqrt',\n",
    "                                                              subsample=0.8,\n",
    "                                                              random_state=10),param_grid= param_test3,scoring='accuracy',iid=False, cv=5)  \n",
    "gsearch3.fit(X_train,y_train)  \n",
    "gsearch3.grid_scores_,gsearch3.best_params_, gsearch3.best_score_"
   ]
  },
  {
   "cell_type": "code",
   "execution_count": 30,
   "metadata": {},
   "outputs": [
    {
     "data": {
      "text/plain": [
       "([mean: 0.79983, std: 0.03744, params: {'max_features': 1},\n",
       "  mean: 0.79987, std: 0.03619, params: {'max_features': 2},\n",
       "  mean: 0.80206, std: 0.03877, params: {'max_features': 3},\n",
       "  mean: 0.80532, std: 0.04269, params: {'max_features': 4},\n",
       "  mean: 0.79883, std: 0.04542, params: {'max_features': 5},\n",
       "  mean: 0.80533, std: 0.04096, params: {'max_features': 6},\n",
       "  mean: 0.80532, std: 0.03730, params: {'max_features': 7},\n",
       "  mean: 0.79988, std: 0.03699, params: {'max_features': 8},\n",
       "  mean: 0.81077, std: 0.03174, params: {'max_features': 9},\n",
       "  mean: 0.80209, std: 0.04471, params: {'max_features': 10},\n",
       "  mean: 0.81078, std: 0.04527, params: {'max_features': 11}],\n",
       " {'max_features': 11},\n",
       " 0.8107833278752736)"
      ]
     },
     "execution_count": 30,
     "metadata": {},
     "output_type": "execute_result"
    }
   ],
   "source": [
    "param_test4= {'max_features':list(range(1,12,1))}  \n",
    "gsearch4= GridSearchCV(estimator = GradientBoostingClassifier(learning_rate=0.1,\n",
    "                                                              n_estimators=320,\n",
    "                                                              max_depth=6, \n",
    "                                                              min_samples_leaf =60,\n",
    "                                                              min_samples_split =100,\n",
    "                                                              subsample=0.8,\n",
    "                                                              random_state=100),param_grid= param_test4,scoring='accuracy',iid=False,cv=5)  \n",
    "gsearch4.fit(X_train,y_train)  \n",
    "gsearch4.grid_scores_,gsearch4.best_params_, gsearch4.best_score_ "
   ]
  },
  {
   "cell_type": "code",
   "execution_count": 31,
   "metadata": {},
   "outputs": [
    {
     "data": {
      "text/plain": [
       "([mean: 0.79561, std: 0.04709, params: {'subsample': 0.45},\n",
       "  mean: 0.80646, std: 0.03833, params: {'subsample': 0.5},\n",
       "  mean: 0.80316, std: 0.03465, params: {'subsample': 0.55},\n",
       "  mean: 0.81622, std: 0.03749, params: {'subsample': 0.6},\n",
       "  mean: 0.79445, std: 0.03468, params: {'subsample': 0.65},\n",
       "  mean: 0.81510, std: 0.02630, params: {'subsample': 0.7},\n",
       "  mean: 0.80207, std: 0.03827, params: {'subsample': 0.75},\n",
       "  mean: 0.81078, std: 0.04527, params: {'subsample': 0.8}],\n",
       " {'subsample': 0.6},\n",
       " 0.8162243711994247)"
      ]
     },
     "execution_count": 31,
     "metadata": {},
     "output_type": "execute_result"
    }
   ],
   "source": [
    "param_test5= {'subsample':[0.45,0.5,0.55,0.6,0.65,0.7,0.75,0.8]}  \n",
    "gsearch5= GridSearchCV(estimator = GradientBoostingClassifier(learning_rate=0.1,\n",
    "                                                              n_estimators=320,\n",
    "                                                              max_depth=6,\n",
    "                                                              min_samples_leaf =60,\n",
    "                                                              min_samples_split =100,\n",
    "                                                              max_features=11,\n",
    "                                                              random_state=100),param_grid= param_test5,scoring='accuracy', iid=False, cv=5)  \n",
    "gsearch5.fit(X_train,y_train)  \n",
    "gsearch5.grid_scores_,gsearch5.best_params_, gsearch5.best_score_"
   ]
  },
  {
   "cell_type": "code",
   "execution_count": 32,
   "metadata": {},
   "outputs": [
    {
     "name": "stdout",
     "output_type": "stream",
     "text": [
      "             precision    recall  f1-score   support\n",
      "\n",
      "          0       0.77      0.81      0.79       165\n",
      "          1       0.81      0.78      0.80       180\n",
      "\n",
      "avg / total       0.79      0.79      0.79       345\n",
      "\n",
      "[[133  32]\n",
      " [ 40 140]]\n",
      "Traininf accuracy is 1.000\n",
      "Random Forest accuracy is 0.791\n"
     ]
    }
   ],
   "source": [
    "gbm2= GradientBoostingClassifier(learning_rate=0.1,\n",
    "                                 n_estimators=320,\n",
    "                                 max_depth=6,\n",
    "                                 min_samples_leaf =60,\n",
    "                                 min_samples_split =100,\n",
    "                                 max_features=11,\n",
    "                                 subsample=0.6,\n",
    "                                 random_state=100\n",
    "                                 )  \n",
    "gbm2.fit(X_train,y_train)  \n",
    "print(classification_report(y_test, gbm2.predict(X_test)))\n",
    "print(confusion_matrix(y_test, gbm2.predict(X_test)))\n",
    "print(\"Traininf accuracy is %3.3f\"% accuracy_score(y_train, gbm2.predict(X_train)))\n",
    "print (\"Random Forest accuracy is %3.3f\" % accuracy_score(y_test,gbm2.predict(X_test) ))"
   ]
  },
  {
   "cell_type": "code",
   "execution_count": 4,
   "metadata": {},
   "outputs": [
    {
     "data": {
      "image/png": "[encoded data removed]",
      "text/plain": [
       "<matplotlib.figure.Figure at 0x2be1924208>"
      ]
     },
     "metadata": {},
     "output_type": "display_data"
    }
   ],
   "source": [
    "plt.rcParams['font.sans-serif']=['SimHei'] #用来正常显示中文标签\n",
    "plt.rcParams['axes.unicode_minus']=False #用来正常显示负号\n",
    "group_label = ['决策树','随机森林','AdaBoost','GBDT']\n",
    "y1=[0.764,0.784,0.778,0.79]\n",
    "y2=[0.609,0.657,0.689,0.695]\n",
    "x=[1,2,3,4]\n",
    "plt.plot(x,y1,ls='--',lw=4,c='b',alpha=0.5,label=u'数据预处理后')\n",
    "plt.plot(x,y2,ls='-.',lw=4,c='g',alpha=0.8,label=u'数据预处理前')\n",
    "plt.xticks(x, group_label, rotation=0)  \n",
    "plt.legend()\n",
    "plt.show()"
   ]
  },
  {
   "cell_type": "code",
   "execution_count": null,
   "metadata": {
    "collapsed": true
   },
   "outputs": [],
   "source": []
  }
 ],
 "metadata": {
  "kernelspec": {
   "display_name": "Python 3",
   "language": "python",
   "name": "python3"
  },
  "language_info": {
   "codemirror_mode": {
    "name": "ipython",
    "version": 3
   },
   "file_extension": ".py",
   "mimetype": "text/x-python",
   "name": "python",
   "nbconvert_exporter": "python",
   "pygments_lexer": "ipython3",
   "version": "3.6.4"
  }
 },
 "nbformat": 4,
 "nbformat_minor": 2
}
